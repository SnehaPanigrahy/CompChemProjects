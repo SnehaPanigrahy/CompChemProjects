{
 "cells": [
  {
   "cell_type": "code",
   "execution_count": 24,
   "id": "e40b8012",
   "metadata": {},
   "outputs": [],
   "source": [
    "def theoretical_yield(Molar_Mass_Reactant, Molar_Mass_Product, Weight_Reactant):\n",
    "    \"\"\"\n",
    "    Calculate theoretical yield of a chemical reaction.\n",
    "    \"\"\"\n",
    "    return round ((Weight_Reactant / Molar_Mass_Reactant) * Molar_Mass_Product, 3)\n"
   ]
  },
  {
   "cell_type": "code",
   "execution_count": 25,
   "id": "9cc7ab32",
   "metadata": {},
   "outputs": [
    {
     "name": "stdout",
     "output_type": "stream",
     "text": [
      "The theoretical yield is 7.172 grams.\n"
     ]
    }
   ],
   "source": [
    "Molar_Mass_Reactant = 458.3  #g/mol\n",
    "Molar_Mass_Product = 650.9   #g/mol\n",
    "Weight_Reactant = 5.05       #g\n",
    "\n",
    "theoretical_yield = theoretical_yield(Molar_Mass_Reactant, Molar_Mass_Product, Weight_Reactant)\n",
    "\n",
    "print(\"The theoretical yield is {0} grams.\".format(theoretical_yield))"
   ]
  }
 ],
 "metadata": {
  "kernelspec": {
   "display_name": "Python 3 (ipykernel)",
   "language": "python",
   "name": "python3"
  },
  "language_info": {
   "codemirror_mode": {
    "name": "ipython",
    "version": 3
   },
   "file_extension": ".py",
   "mimetype": "text/x-python",
   "name": "python",
   "nbconvert_exporter": "python",
   "pygments_lexer": "ipython3",
   "version": "3.10.9"
  }
 },
 "nbformat": 4,
 "nbformat_minor": 5
}
