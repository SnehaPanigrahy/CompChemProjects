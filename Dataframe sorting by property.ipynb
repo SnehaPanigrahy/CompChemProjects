{
 "cells": [
  {
   "cell_type": "code",
   "execution_count": 30,
   "id": "8731f3f2",
   "metadata": {},
   "outputs": [
    {
     "name": "stdout",
     "output_type": "stream",
     "text": [
      "Defaulting to user installation because normal site-packages is not writeable\n",
      "Requirement already satisfied: rdkit-pypi in c:\\users\\sneha\\appdata\\roaming\\python\\python310\\site-packages (2022.9.5)\n",
      "Requirement already satisfied: numpy in c:\\programdata\\anaconda3\\lib\\site-packages (from rdkit-pypi) (1.23.5)\n",
      "Requirement already satisfied: Pillow in c:\\programdata\\anaconda3\\lib\\site-packages (from rdkit-pypi) (9.4.0)\n",
      "Defaulting to user installation because normal site-packages is not writeable\n",
      "Requirement already satisfied: sklearn in c:\\users\\sneha\\appdata\\roaming\\python\\python310\\site-packages (0.0.post7)\n"
     ]
    }
   ],
   "source": [
    "!pip install rdkit-pypi\n",
    "!pip install sklearn"
   ]
  },
  {
   "cell_type": "code",
   "execution_count": 56,
   "id": "28499c81",
   "metadata": {},
   "outputs": [],
   "source": [
    "import pandas as pd\n",
    "import numpy as py\n",
    "import seaborn as sb\n",
    "from scipy import stats\n",
    "from rdkit.Chem import AllChem\n",
    "from rdkit import Chem\n",
    "from rdkit.Chem import Descriptors\n",
    "from rdkit.Chem import rdMolDescriptors \n",
    "from rdkit.Chem import PandasTools\n",
    "from rdkit.Chem.Draw import IPythonConsole\n",
    "\n",
    "import warnings\n",
    "warnings.filterwarnings(\"ignore\")"
   ]
  },
  {
   "cell_type": "code",
   "execution_count": 54,
   "id": "f1fa470d",
   "metadata": {},
   "outputs": [
    {
     "name": "stderr",
     "output_type": "stream",
     "text": [
      "[16:15:46] skipping block at line 182674: 'BEGIN BOND'\n",
      "[16:15:46] skipping block at line 182708: 'BEGIN BOND'\n",
      "[16:15:47] skipping block at line 198422: 'BEGIN BOND'\n",
      "[16:15:47] skipping block at line 198450: 'BEGIN BOND'\n"
     ]
    },
    {
     "data": {
      "text/html": [
       "<div>\n",
       "<style scoped>\n",
       "    .dataframe tbody tr th:only-of-type {\n",
       "        vertical-align: middle;\n",
       "    }\n",
       "\n",
       "    .dataframe tbody tr th {\n",
       "        vertical-align: top;\n",
       "    }\n",
       "\n",
       "    .dataframe thead th {\n",
       "        text-align: right;\n",
       "    }\n",
       "</style>\n",
       "<table border=\"1\" class=\"dataframe\">\n",
       "  <thead>\n",
       "    <tr style=\"text-align: right;\">\n",
       "      <th></th>\n",
       "      <th>Target_Name</th>\n",
       "      <th>Target_Organism</th>\n",
       "      <th>Total_Molweight</th>\n",
       "      <th>Smiles</th>\n",
       "      <th>ID</th>\n",
       "      <th>ROMol</th>\n",
       "    </tr>\n",
       "  </thead>\n",
       "  <tbody>\n",
       "    <tr>\n",
       "      <th>0</th>\n",
       "      <td>HMG-CoA reductase</td>\n",
       "      <td>Homo sapiens</td>\n",
       "      <td>292.139</td>\n",
       "      <td>Brc(c1nccnc1cc1)c1NC1=NCCN1</td>\n",
       "      <td>Compound 1</td>\n",
       "      <td>&lt;rdkit.Chem.rdchem.Mol object at 0x0000018BE98...</td>\n",
       "    </tr>\n",
       "    <tr>\n",
       "      <th>1</th>\n",
       "      <td>HMG-CoA reductase</td>\n",
       "      <td>Homo sapiens</td>\n",
       "      <td>292.139</td>\n",
       "      <td>Brc(c1nccnc1cc1)c1NC1=NCCN1</td>\n",
       "      <td>Compound 2</td>\n",
       "      <td>&lt;rdkit.Chem.rdchem.Mol object at 0x0000018BE99...</td>\n",
       "    </tr>\n",
       "    <tr>\n",
       "      <th>2</th>\n",
       "      <td>HMG-CoA reductase</td>\n",
       "      <td>Homo sapiens</td>\n",
       "      <td>157.01</td>\n",
       "      <td>Brc1ccccc1</td>\n",
       "      <td>Compound 3</td>\n",
       "      <td>&lt;rdkit.Chem.rdchem.Mol object at 0x0000018BE99...</td>\n",
       "    </tr>\n",
       "    <tr>\n",
       "      <th>3</th>\n",
       "      <td>HMG-CoA reductase</td>\n",
       "      <td>Homo sapiens</td>\n",
       "      <td>157.01</td>\n",
       "      <td>Brc1ccccc1</td>\n",
       "      <td>Compound 4</td>\n",
       "      <td>&lt;rdkit.Chem.rdchem.Mol object at 0x0000018BE99...</td>\n",
       "    </tr>\n",
       "    <tr>\n",
       "      <th>4</th>\n",
       "      <td>HMG-CoA reductase</td>\n",
       "      <td>Homo sapiens</td>\n",
       "      <td>368.522</td>\n",
       "      <td>C(/C=C/c1ccccc1)N(CC1)CCN1C(c1ccccc1)c1ccccc1</td>\n",
       "      <td>Compound 5</td>\n",
       "      <td>&lt;rdkit.Chem.rdchem.Mol object at 0x0000018BE99...</td>\n",
       "    </tr>\n",
       "  </tbody>\n",
       "</table>\n",
       "</div>"
      ],
      "text/plain": [
       "         Target_Name Target_Organism Total_Molweight  \\\n",
       "0  HMG-CoA reductase    Homo sapiens         292.139   \n",
       "1  HMG-CoA reductase    Homo sapiens         292.139   \n",
       "2  HMG-CoA reductase    Homo sapiens          157.01   \n",
       "3  HMG-CoA reductase    Homo sapiens          157.01   \n",
       "4  HMG-CoA reductase    Homo sapiens         368.522   \n",
       "\n",
       "                                          Smiles          ID  \\\n",
       "0                    Brc(c1nccnc1cc1)c1NC1=NCCN1  Compound 1   \n",
       "1                    Brc(c1nccnc1cc1)c1NC1=NCCN1  Compound 2   \n",
       "2                                     Brc1ccccc1  Compound 3   \n",
       "3                                     Brc1ccccc1  Compound 4   \n",
       "4  C(/C=C/c1ccccc1)N(CC1)CCN1C(c1ccccc1)c1ccccc1  Compound 5   \n",
       "\n",
       "                                               ROMol  \n",
       "0  <rdkit.Chem.rdchem.Mol object at 0x0000018BE98...  \n",
       "1  <rdkit.Chem.rdchem.Mol object at 0x0000018BE99...  \n",
       "2  <rdkit.Chem.rdchem.Mol object at 0x0000018BE99...  \n",
       "3  <rdkit.Chem.rdchem.Mol object at 0x0000018BE99...  \n",
       "4  <rdkit.Chem.rdchem.Mol object at 0x0000018BE99...  "
      ]
     },
     "execution_count": 54,
     "metadata": {},
     "output_type": "execute_result"
    }
   ],
   "source": [
    "dataset = PandasTools.LoadSDF(r\"C:\\Users\\sneha\\Desktop\\Comp Chem\\vscode\\HMG_CoA_ChEMBL_Database.sdf\")\n",
    "dataset.head()"
   ]
  },
  {
   "cell_type": "code",
   "execution_count": 6,
   "id": "bd5557bb",
   "metadata": {},
   "outputs": [
    {
     "data": {
      "text/plain": [
       "2430"
      ]
     },
     "execution_count": 6,
     "metadata": {},
     "output_type": "execute_result"
    }
   ],
   "source": [
    "len(dataset)"
   ]
  },
  {
   "cell_type": "code",
   "execution_count": 15,
   "id": "80b7f807",
   "metadata": {},
   "outputs": [
    {
     "data": {
      "text/plain": [
       "1148"
      ]
     },
     "execution_count": 15,
     "metadata": {},
     "output_type": "execute_result"
    }
   ],
   "source": [
    "duplicates_smiles = dataset[dataset['Smiles'].duplicated()]['Smiles'].values\n",
    "len(duplicates_smiles)"
   ]
  },
  {
   "cell_type": "code",
   "execution_count": 16,
   "id": "eafdd240",
   "metadata": {},
   "outputs": [
    {
     "data": {
      "text/html": [
       "<div>\n",
       "<style scoped>\n",
       "    .dataframe tbody tr th:only-of-type {\n",
       "        vertical-align: middle;\n",
       "    }\n",
       "\n",
       "    .dataframe tbody tr th {\n",
       "        vertical-align: top;\n",
       "    }\n",
       "\n",
       "    .dataframe thead th {\n",
       "        text-align: right;\n",
       "    }\n",
       "</style>\n",
       "<table border=\"1\" class=\"dataframe\">\n",
       "  <thead>\n",
       "    <tr style=\"text-align: right;\">\n",
       "      <th></th>\n",
       "      <th>Target_Name</th>\n",
       "      <th>Target_Organism</th>\n",
       "      <th>Total_Molweight</th>\n",
       "      <th>Smiles</th>\n",
       "      <th>ID</th>\n",
       "      <th>ROMol</th>\n",
       "    </tr>\n",
       "  </thead>\n",
       "  <tbody>\n",
       "    <tr>\n",
       "      <th>0</th>\n",
       "      <td>HMG-CoA reductase</td>\n",
       "      <td>Homo sapiens</td>\n",
       "      <td>292.139</td>\n",
       "      <td>Brc(c1nccnc1cc1)c1NC1=NCCN1</td>\n",
       "      <td>Compound 1</td>\n",
       "      <td>&lt;rdkit.Chem.rdchem.Mol object at 0x0000018BD8C...</td>\n",
       "    </tr>\n",
       "    <tr>\n",
       "      <th>1</th>\n",
       "      <td>HMG-CoA reductase</td>\n",
       "      <td>Homo sapiens</td>\n",
       "      <td>292.139</td>\n",
       "      <td>Brc(c1nccnc1cc1)c1NC1=NCCN1</td>\n",
       "      <td>Compound 2</td>\n",
       "      <td>&lt;rdkit.Chem.rdchem.Mol object at 0x0000018BD8C...</td>\n",
       "    </tr>\n",
       "    <tr>\n",
       "      <th>2</th>\n",
       "      <td>HMG-CoA reductase</td>\n",
       "      <td>Homo sapiens</td>\n",
       "      <td>157.01</td>\n",
       "      <td>Brc1ccccc1</td>\n",
       "      <td>Compound 3</td>\n",
       "      <td>&lt;rdkit.Chem.rdchem.Mol object at 0x0000018BDD6...</td>\n",
       "    </tr>\n",
       "    <tr>\n",
       "      <th>3</th>\n",
       "      <td>HMG-CoA reductase</td>\n",
       "      <td>Homo sapiens</td>\n",
       "      <td>157.01</td>\n",
       "      <td>Brc1ccccc1</td>\n",
       "      <td>Compound 4</td>\n",
       "      <td>&lt;rdkit.Chem.rdchem.Mol object at 0x0000018BDD6...</td>\n",
       "    </tr>\n",
       "    <tr>\n",
       "      <th>4</th>\n",
       "      <td>HMG-CoA reductase</td>\n",
       "      <td>Homo sapiens</td>\n",
       "      <td>368.522</td>\n",
       "      <td>C(/C=C/c1ccccc1)N(CC1)CCN1C(c1ccccc1)c1ccccc1</td>\n",
       "      <td>Compound 5</td>\n",
       "      <td>&lt;rdkit.Chem.rdchem.Mol object at 0x0000018BDD6...</td>\n",
       "    </tr>\n",
       "    <tr>\n",
       "      <th>...</th>\n",
       "      <td>...</td>\n",
       "      <td>...</td>\n",
       "      <td>...</td>\n",
       "      <td>...</td>\n",
       "      <td>...</td>\n",
       "      <td>...</td>\n",
       "    </tr>\n",
       "    <tr>\n",
       "      <th>2425</th>\n",
       "      <td>HMG-CoA reductase</td>\n",
       "      <td>Homo sapiens</td>\n",
       "      <td>201.253</td>\n",
       "      <td>c1c(-c2nc(cccc3)c3[nH]2)ncs1</td>\n",
       "      <td>Compound 2426</td>\n",
       "      <td>&lt;rdkit.Chem.rdchem.Mol object at 0x0000018BE18...</td>\n",
       "    </tr>\n",
       "    <tr>\n",
       "      <th>2426</th>\n",
       "      <td>HMG-CoA reductase</td>\n",
       "      <td>Homo sapiens</td>\n",
       "      <td>252.315</td>\n",
       "      <td>c1cc2c(cccc3ccc4ccc5)c3c4c5c2cc1</td>\n",
       "      <td>Compound 2427</td>\n",
       "      <td>&lt;rdkit.Chem.rdchem.Mol object at 0x0000018BE18...</td>\n",
       "    </tr>\n",
       "    <tr>\n",
       "      <th>2427</th>\n",
       "      <td>HMG-CoA reductase</td>\n",
       "      <td>Homo sapiens</td>\n",
       "      <td>252.315</td>\n",
       "      <td>c1cc2c(cccc3ccc4ccc5)c3c4c5c2cc1</td>\n",
       "      <td>Compound 2428</td>\n",
       "      <td>&lt;rdkit.Chem.rdchem.Mol object at 0x0000018BE18...</td>\n",
       "    </tr>\n",
       "    <tr>\n",
       "      <th>2428</th>\n",
       "      <td>HMG-CoA reductase</td>\n",
       "      <td>Homo sapiens</td>\n",
       "      <td>252.315</td>\n",
       "      <td>c1cc2cc3ccc(cccc4cc5)c4c3c5c2cc1</td>\n",
       "      <td>Compound 2429</td>\n",
       "      <td>&lt;rdkit.Chem.rdchem.Mol object at 0x0000018BE18...</td>\n",
       "    </tr>\n",
       "    <tr>\n",
       "      <th>2429</th>\n",
       "      <td>HMG-CoA reductase</td>\n",
       "      <td>Homo sapiens</td>\n",
       "      <td>252.315</td>\n",
       "      <td>c1cc2cc3ccc(cccc4cc5)c4c3c5c2cc1</td>\n",
       "      <td>Compound 2430</td>\n",
       "      <td>&lt;rdkit.Chem.rdchem.Mol object at 0x0000018BE18...</td>\n",
       "    </tr>\n",
       "  </tbody>\n",
       "</table>\n",
       "<p>2086 rows × 6 columns</p>\n",
       "</div>"
      ],
      "text/plain": [
       "            Target_Name Target_Organism Total_Molweight  \\\n",
       "0     HMG-CoA reductase    Homo sapiens         292.139   \n",
       "1     HMG-CoA reductase    Homo sapiens         292.139   \n",
       "2     HMG-CoA reductase    Homo sapiens          157.01   \n",
       "3     HMG-CoA reductase    Homo sapiens          157.01   \n",
       "4     HMG-CoA reductase    Homo sapiens         368.522   \n",
       "...                 ...             ...             ...   \n",
       "2425  HMG-CoA reductase    Homo sapiens         201.253   \n",
       "2426  HMG-CoA reductase    Homo sapiens         252.315   \n",
       "2427  HMG-CoA reductase    Homo sapiens         252.315   \n",
       "2428  HMG-CoA reductase    Homo sapiens         252.315   \n",
       "2429  HMG-CoA reductase    Homo sapiens         252.315   \n",
       "\n",
       "                                             Smiles             ID  \\\n",
       "0                       Brc(c1nccnc1cc1)c1NC1=NCCN1     Compound 1   \n",
       "1                       Brc(c1nccnc1cc1)c1NC1=NCCN1     Compound 2   \n",
       "2                                        Brc1ccccc1     Compound 3   \n",
       "3                                        Brc1ccccc1     Compound 4   \n",
       "4     C(/C=C/c1ccccc1)N(CC1)CCN1C(c1ccccc1)c1ccccc1     Compound 5   \n",
       "...                                             ...            ...   \n",
       "2425                   c1c(-c2nc(cccc3)c3[nH]2)ncs1  Compound 2426   \n",
       "2426               c1cc2c(cccc3ccc4ccc5)c3c4c5c2cc1  Compound 2427   \n",
       "2427               c1cc2c(cccc3ccc4ccc5)c3c4c5c2cc1  Compound 2428   \n",
       "2428               c1cc2cc3ccc(cccc4cc5)c4c3c5c2cc1  Compound 2429   \n",
       "2429               c1cc2cc3ccc(cccc4cc5)c4c3c5c2cc1  Compound 2430   \n",
       "\n",
       "                                                  ROMol  \n",
       "0     <rdkit.Chem.rdchem.Mol object at 0x0000018BD8C...  \n",
       "1     <rdkit.Chem.rdchem.Mol object at 0x0000018BD8C...  \n",
       "2     <rdkit.Chem.rdchem.Mol object at 0x0000018BDD6...  \n",
       "3     <rdkit.Chem.rdchem.Mol object at 0x0000018BDD6...  \n",
       "4     <rdkit.Chem.rdchem.Mol object at 0x0000018BDD6...  \n",
       "...                                                 ...  \n",
       "2425  <rdkit.Chem.rdchem.Mol object at 0x0000018BE18...  \n",
       "2426  <rdkit.Chem.rdchem.Mol object at 0x0000018BE18...  \n",
       "2427  <rdkit.Chem.rdchem.Mol object at 0x0000018BE18...  \n",
       "2428  <rdkit.Chem.rdchem.Mol object at 0x0000018BE18...  \n",
       "2429  <rdkit.Chem.rdchem.Mol object at 0x0000018BE18...  \n",
       "\n",
       "[2086 rows x 6 columns]"
      ]
     },
     "execution_count": 16,
     "metadata": {},
     "output_type": "execute_result"
    }
   ],
   "source": [
    "dataset[dataset['Smiles'].isin(duplicates_smiles)].sort_values(by=['Smiles'])"
   ]
  },
  {
   "cell_type": "code",
   "execution_count": 17,
   "id": "77c2d1a7",
   "metadata": {},
   "outputs": [
    {
     "data": {
      "text/plain": [
       "1282"
      ]
     },
     "execution_count": 17,
     "metadata": {},
     "output_type": "execute_result"
    }
   ],
   "source": [
    "dataset_new = dataset.drop_duplicates(subset=['Smiles'])\n",
    "len(dataset_new)"
   ]
  },
  {
   "cell_type": "code",
   "execution_count": 18,
   "id": "5cb783a0",
   "metadata": {},
   "outputs": [
    {
     "data": {
      "text/html": [
       "<div>\n",
       "<style scoped>\n",
       "    .dataframe tbody tr th:only-of-type {\n",
       "        vertical-align: middle;\n",
       "    }\n",
       "\n",
       "    .dataframe tbody tr th {\n",
       "        vertical-align: top;\n",
       "    }\n",
       "\n",
       "    .dataframe thead th {\n",
       "        text-align: right;\n",
       "    }\n",
       "</style>\n",
       "<table border=\"1\" class=\"dataframe\">\n",
       "  <thead>\n",
       "    <tr style=\"text-align: right;\">\n",
       "      <th></th>\n",
       "      <th>Target_Name</th>\n",
       "      <th>Target_Organism</th>\n",
       "      <th>Total_Molweight</th>\n",
       "      <th>Smiles</th>\n",
       "      <th>ID</th>\n",
       "      <th>ROMol</th>\n",
       "    </tr>\n",
       "  </thead>\n",
       "  <tbody>\n",
       "    <tr>\n",
       "      <th>0</th>\n",
       "      <td>HMG-CoA reductase</td>\n",
       "      <td>Homo sapiens</td>\n",
       "      <td>292.139</td>\n",
       "      <td>Brc(c1nccnc1cc1)c1NC1=NCCN1</td>\n",
       "      <td>Compound 1</td>\n",
       "      <td>&lt;rdkit.Chem.rdchem.Mol object at 0x0000018BD8C...</td>\n",
       "    </tr>\n",
       "    <tr>\n",
       "      <th>2</th>\n",
       "      <td>HMG-CoA reductase</td>\n",
       "      <td>Homo sapiens</td>\n",
       "      <td>157.01</td>\n",
       "      <td>Brc1ccccc1</td>\n",
       "      <td>Compound 3</td>\n",
       "      <td>&lt;rdkit.Chem.rdchem.Mol object at 0x0000018BDD6...</td>\n",
       "    </tr>\n",
       "    <tr>\n",
       "      <th>4</th>\n",
       "      <td>HMG-CoA reductase</td>\n",
       "      <td>Homo sapiens</td>\n",
       "      <td>368.522</td>\n",
       "      <td>C(/C=C/c1ccccc1)N(CC1)CCN1C(c1ccccc1)c1ccccc1</td>\n",
       "      <td>Compound 5</td>\n",
       "      <td>&lt;rdkit.Chem.rdchem.Mol object at 0x0000018BDD6...</td>\n",
       "    </tr>\n",
       "    <tr>\n",
       "      <th>6</th>\n",
       "      <td>HMG-CoA reductase</td>\n",
       "      <td>Homo sapiens</td>\n",
       "      <td>277.494</td>\n",
       "      <td>C(C(C1CCCCC1)C1CCCCC1)C1NCCCC1</td>\n",
       "      <td>Compound 7</td>\n",
       "      <td>&lt;rdkit.Chem.rdchem.Mol object at 0x0000018BDD6...</td>\n",
       "    </tr>\n",
       "    <tr>\n",
       "      <th>8</th>\n",
       "      <td>HMG-CoA reductase</td>\n",
       "      <td>Homo sapiens</td>\n",
       "      <td>234.385</td>\n",
       "      <td>C(CC1)C[C@H]2N1C[C@@H]1[C@H](CCCC3)N3C[C@H]2C1</td>\n",
       "      <td>Compound 9</td>\n",
       "      <td>&lt;rdkit.Chem.rdchem.Mol object at 0x0000018BDD6...</td>\n",
       "    </tr>\n",
       "    <tr>\n",
       "      <th>...</th>\n",
       "      <td>...</td>\n",
       "      <td>...</td>\n",
       "      <td>...</td>\n",
       "      <td>...</td>\n",
       "      <td>...</td>\n",
       "      <td>...</td>\n",
       "    </tr>\n",
       "    <tr>\n",
       "      <th>2420</th>\n",
       "      <td>HMG-CoA reductase</td>\n",
       "      <td>Homo sapiens</td>\n",
       "      <td>332.496</td>\n",
       "      <td>c(cc1)cc2c1sc(SSc1nc(cccc3)c3s1)n2</td>\n",
       "      <td>Compound 2421</td>\n",
       "      <td>&lt;rdkit.Chem.rdchem.Mol object at 0x0000018BE18...</td>\n",
       "    </tr>\n",
       "    <tr>\n",
       "      <th>2422</th>\n",
       "      <td>HMG-CoA reductase</td>\n",
       "      <td>Homo sapiens</td>\n",
       "      <td>260.339</td>\n",
       "      <td>c(cc1)ccc1Nc(cc1)ccc1Nc1ccccc1</td>\n",
       "      <td>Compound 2423</td>\n",
       "      <td>&lt;rdkit.Chem.rdchem.Mol object at 0x0000018BE18...</td>\n",
       "    </tr>\n",
       "    <tr>\n",
       "      <th>2424</th>\n",
       "      <td>HMG-CoA reductase</td>\n",
       "      <td>Homo sapiens</td>\n",
       "      <td>201.253</td>\n",
       "      <td>c1c(-c2nc(cccc3)c3[nH]2)ncs1</td>\n",
       "      <td>Compound 2425</td>\n",
       "      <td>&lt;rdkit.Chem.rdchem.Mol object at 0x0000018BE18...</td>\n",
       "    </tr>\n",
       "    <tr>\n",
       "      <th>2426</th>\n",
       "      <td>HMG-CoA reductase</td>\n",
       "      <td>Homo sapiens</td>\n",
       "      <td>252.315</td>\n",
       "      <td>c1cc2c(cccc3ccc4ccc5)c3c4c5c2cc1</td>\n",
       "      <td>Compound 2427</td>\n",
       "      <td>&lt;rdkit.Chem.rdchem.Mol object at 0x0000018BE18...</td>\n",
       "    </tr>\n",
       "    <tr>\n",
       "      <th>2428</th>\n",
       "      <td>HMG-CoA reductase</td>\n",
       "      <td>Homo sapiens</td>\n",
       "      <td>252.315</td>\n",
       "      <td>c1cc2cc3ccc(cccc4cc5)c4c3c5c2cc1</td>\n",
       "      <td>Compound 2429</td>\n",
       "      <td>&lt;rdkit.Chem.rdchem.Mol object at 0x0000018BE18...</td>\n",
       "    </tr>\n",
       "  </tbody>\n",
       "</table>\n",
       "<p>1282 rows × 6 columns</p>\n",
       "</div>"
      ],
      "text/plain": [
       "            Target_Name Target_Organism Total_Molweight  \\\n",
       "0     HMG-CoA reductase    Homo sapiens         292.139   \n",
       "2     HMG-CoA reductase    Homo sapiens          157.01   \n",
       "4     HMG-CoA reductase    Homo sapiens         368.522   \n",
       "6     HMG-CoA reductase    Homo sapiens         277.494   \n",
       "8     HMG-CoA reductase    Homo sapiens         234.385   \n",
       "...                 ...             ...             ...   \n",
       "2420  HMG-CoA reductase    Homo sapiens         332.496   \n",
       "2422  HMG-CoA reductase    Homo sapiens         260.339   \n",
       "2424  HMG-CoA reductase    Homo sapiens         201.253   \n",
       "2426  HMG-CoA reductase    Homo sapiens         252.315   \n",
       "2428  HMG-CoA reductase    Homo sapiens         252.315   \n",
       "\n",
       "                                              Smiles             ID  \\\n",
       "0                        Brc(c1nccnc1cc1)c1NC1=NCCN1     Compound 1   \n",
       "2                                         Brc1ccccc1     Compound 3   \n",
       "4      C(/C=C/c1ccccc1)N(CC1)CCN1C(c1ccccc1)c1ccccc1     Compound 5   \n",
       "6                     C(C(C1CCCCC1)C1CCCCC1)C1NCCCC1     Compound 7   \n",
       "8     C(CC1)C[C@H]2N1C[C@@H]1[C@H](CCCC3)N3C[C@H]2C1     Compound 9   \n",
       "...                                              ...            ...   \n",
       "2420              c(cc1)cc2c1sc(SSc1nc(cccc3)c3s1)n2  Compound 2421   \n",
       "2422                  c(cc1)ccc1Nc(cc1)ccc1Nc1ccccc1  Compound 2423   \n",
       "2424                    c1c(-c2nc(cccc3)c3[nH]2)ncs1  Compound 2425   \n",
       "2426                c1cc2c(cccc3ccc4ccc5)c3c4c5c2cc1  Compound 2427   \n",
       "2428                c1cc2cc3ccc(cccc4cc5)c4c3c5c2cc1  Compound 2429   \n",
       "\n",
       "                                                  ROMol  \n",
       "0     <rdkit.Chem.rdchem.Mol object at 0x0000018BD8C...  \n",
       "2     <rdkit.Chem.rdchem.Mol object at 0x0000018BDD6...  \n",
       "4     <rdkit.Chem.rdchem.Mol object at 0x0000018BDD6...  \n",
       "6     <rdkit.Chem.rdchem.Mol object at 0x0000018BDD6...  \n",
       "8     <rdkit.Chem.rdchem.Mol object at 0x0000018BDD6...  \n",
       "...                                                 ...  \n",
       "2420  <rdkit.Chem.rdchem.Mol object at 0x0000018BE18...  \n",
       "2422  <rdkit.Chem.rdchem.Mol object at 0x0000018BE18...  \n",
       "2424  <rdkit.Chem.rdchem.Mol object at 0x0000018BE18...  \n",
       "2426  <rdkit.Chem.rdchem.Mol object at 0x0000018BE18...  \n",
       "2428  <rdkit.Chem.rdchem.Mol object at 0x0000018BE18...  \n",
       "\n",
       "[1282 rows x 6 columns]"
      ]
     },
     "execution_count": 18,
     "metadata": {},
     "output_type": "execute_result"
    }
   ],
   "source": [
    "dataset_new"
   ]
  },
  {
   "cell_type": "code",
   "execution_count": 19,
   "id": "5546d845",
   "metadata": {},
   "outputs": [
    {
     "data": {
      "text/plain": [
       "<seaborn.axisgrid.FacetGrid at 0x18bdd586410>"
      ]
     },
     "execution_count": 19,
     "metadata": {},
     "output_type": "execute_result"
    },
    {
     "data": {
      "image/png": "[encoded data removed]",
      "text/plain": [
       "<Figure size 500x500 with 1 Axes>"
      ]
     },
     "metadata": {},
     "output_type": "display_data"
    }
   ],
   "source": [
    "sb.displot(dataset_new.Total_Molweight)"
   ]
  },
  {
   "cell_type": "code",
   "execution_count": 20,
   "id": "e13246ba",
   "metadata": {},
   "outputs": [
    {
     "data": {
      "text/plain": [
       "count        1282\n",
       "unique       1162\n",
       "top       382.586\n",
       "freq            4\n",
       "Name: Total_Molweight, dtype: object"
      ]
     },
     "execution_count": 20,
     "metadata": {},
     "output_type": "execute_result"
    }
   ],
   "source": [
    "dataset_new.Total_Molweight.describe()"
   ]
  },
  {
   "cell_type": "code",
   "execution_count": 21,
   "id": "a7f59563",
   "metadata": {},
   "outputs": [
    {
     "data": {
      "text/html": [
       "<div>\n",
       "<style scoped>\n",
       "    .dataframe tbody tr th:only-of-type {\n",
       "        vertical-align: middle;\n",
       "    }\n",
       "\n",
       "    .dataframe tbody tr th {\n",
       "        vertical-align: top;\n",
       "    }\n",
       "\n",
       "    .dataframe thead th {\n",
       "        text-align: right;\n",
       "    }\n",
       "</style>\n",
       "<table border=\"1\" class=\"dataframe\">\n",
       "  <thead>\n",
       "    <tr style=\"text-align: right;\">\n",
       "      <th></th>\n",
       "      <th>Target_Name</th>\n",
       "      <th>Target_Organism</th>\n",
       "      <th>Total_Molweight</th>\n",
       "      <th>Smiles</th>\n",
       "      <th>ID</th>\n",
       "      <th>ROMol</th>\n",
       "    </tr>\n",
       "  </thead>\n",
       "  <tbody>\n",
       "    <tr>\n",
       "      <th>1595</th>\n",
       "      <td>HMG-CoA reductase</td>\n",
       "      <td>Homo sapiens</td>\n",
       "      <td>1019.26</td>\n",
       "      <td>C[C@H]([C@H](CO)NC([C@H](CSSC[C@@H](C(N[C@@H](...</td>\n",
       "      <td>Compound 1596</td>\n",
       "      <td>&lt;rdkit.Chem.rdchem.Mol object at 0x0000018BDF8...</td>\n",
       "    </tr>\n",
       "    <tr>\n",
       "      <th>992</th>\n",
       "      <td>HMG-CoA reductase</td>\n",
       "      <td>Homo sapiens</td>\n",
       "      <td>102.136</td>\n",
       "      <td>CCN(CC)N=O</td>\n",
       "      <td>Compound 993</td>\n",
       "      <td>&lt;rdkit.Chem.rdchem.Mol object at 0x0000018BDE8...</td>\n",
       "    </tr>\n",
       "    <tr>\n",
       "      <th>2332</th>\n",
       "      <td>HMG-CoA reductase</td>\n",
       "      <td>Homo sapiens</td>\n",
       "      <td>108.14</td>\n",
       "      <td>OCc1ccccc1</td>\n",
       "      <td>Compound 2333</td>\n",
       "      <td>&lt;rdkit.Chem.rdchem.Mol object at 0x0000018BE18...</td>\n",
       "    </tr>\n",
       "    <tr>\n",
       "      <th>2098</th>\n",
       "      <td>HMG-CoA reductase</td>\n",
       "      <td>Homo sapiens</td>\n",
       "      <td>108.144</td>\n",
       "      <td>NNc1ccccc1</td>\n",
       "      <td>Compound 2099</td>\n",
       "      <td>&lt;rdkit.Chem.rdchem.Mol object at 0x0000018BDF8...</td>\n",
       "    </tr>\n",
       "    <tr>\n",
       "      <th>2371</th>\n",
       "      <td>HMG-CoA reductase</td>\n",
       "      <td>Homo sapiens</td>\n",
       "      <td>110.112</td>\n",
       "      <td>Oc(cccc1)c1O</td>\n",
       "      <td>Compound 2372</td>\n",
       "      <td>&lt;rdkit.Chem.rdchem.Mol object at 0x0000018BE18...</td>\n",
       "    </tr>\n",
       "    <tr>\n",
       "      <th>...</th>\n",
       "      <td>...</td>\n",
       "      <td>...</td>\n",
       "      <td>...</td>\n",
       "      <td>...</td>\n",
       "      <td>...</td>\n",
       "      <td>...</td>\n",
       "    </tr>\n",
       "    <tr>\n",
       "      <th>425</th>\n",
       "      <td>HMG-CoA reductase</td>\n",
       "      <td>Homo sapiens</td>\n",
       "      <td>927.036</td>\n",
       "      <td>CC(C)c1c(C(Nc2ccccc2)=O)c(-c2ccccc2)c(-c(cc2)c...</td>\n",
       "      <td>Compound 426</td>\n",
       "      <td>&lt;rdkit.Chem.rdchem.Mol object at 0x0000018BDE7...</td>\n",
       "    </tr>\n",
       "    <tr>\n",
       "      <th>1469</th>\n",
       "      <td>HMG-CoA reductase</td>\n",
       "      <td>Homo sapiens</td>\n",
       "      <td>934.166</td>\n",
       "      <td>C[C@@H]([C@@H]([C@@H](C)[C@@H](C1)O)O[C@@]1(CC...</td>\n",
       "      <td>Compound 1470</td>\n",
       "      <td>&lt;rdkit.Chem.rdchem.Mol object at 0x0000018BDF8...</td>\n",
       "    </tr>\n",
       "    <tr>\n",
       "      <th>2381</th>\n",
       "      <td>HMG-CoA reductase</td>\n",
       "      <td>Homo sapiens</td>\n",
       "      <td>94.1126</td>\n",
       "      <td>Oc1ccccc1</td>\n",
       "      <td>Compound 2382</td>\n",
       "      <td>&lt;rdkit.Chem.rdchem.Mol object at 0x0000018BE18...</td>\n",
       "    </tr>\n",
       "    <tr>\n",
       "      <th>26</th>\n",
       "      <td>HMG-CoA reductase</td>\n",
       "      <td>Homo sapiens</td>\n",
       "      <td>96.9439</td>\n",
       "      <td>C=C(Cl)Cl</td>\n",
       "      <td>Compound 27</td>\n",
       "      <td>&lt;rdkit.Chem.rdchem.Mol object at 0x0000018BDD6...</td>\n",
       "    </tr>\n",
       "    <tr>\n",
       "      <th>2330</th>\n",
       "      <td>HMG-CoA reductase</td>\n",
       "      <td>Homo sapiens</td>\n",
       "      <td>972.842</td>\n",
       "      <td>OC[C@H]([C@H]([C@@H]([C@H]1O)O)O[C@H]([C@@H]([...</td>\n",
       "      <td>Compound 2331</td>\n",
       "      <td>&lt;rdkit.Chem.rdchem.Mol object at 0x0000018BE18...</td>\n",
       "    </tr>\n",
       "  </tbody>\n",
       "</table>\n",
       "<p>1282 rows × 6 columns</p>\n",
       "</div>"
      ],
      "text/plain": [
       "            Target_Name Target_Organism Total_Molweight  \\\n",
       "1595  HMG-CoA reductase    Homo sapiens         1019.26   \n",
       "992   HMG-CoA reductase    Homo sapiens         102.136   \n",
       "2332  HMG-CoA reductase    Homo sapiens          108.14   \n",
       "2098  HMG-CoA reductase    Homo sapiens         108.144   \n",
       "2371  HMG-CoA reductase    Homo sapiens         110.112   \n",
       "...                 ...             ...             ...   \n",
       "425   HMG-CoA reductase    Homo sapiens         927.036   \n",
       "1469  HMG-CoA reductase    Homo sapiens         934.166   \n",
       "2381  HMG-CoA reductase    Homo sapiens         94.1126   \n",
       "26    HMG-CoA reductase    Homo sapiens         96.9439   \n",
       "2330  HMG-CoA reductase    Homo sapiens         972.842   \n",
       "\n",
       "                                                 Smiles             ID  \\\n",
       "1595  C[C@H]([C@H](CO)NC([C@H](CSSC[C@@H](C(N[C@@H](...  Compound 1596   \n",
       "992                                          CCN(CC)N=O   Compound 993   \n",
       "2332                                         OCc1ccccc1  Compound 2333   \n",
       "2098                                         NNc1ccccc1  Compound 2099   \n",
       "2371                                       Oc(cccc1)c1O  Compound 2372   \n",
       "...                                                 ...            ...   \n",
       "425   CC(C)c1c(C(Nc2ccccc2)=O)c(-c2ccccc2)c(-c(cc2)c...   Compound 426   \n",
       "1469  C[C@@H]([C@@H]([C@@H](C)[C@@H](C1)O)O[C@@]1(CC...  Compound 1470   \n",
       "2381                                          Oc1ccccc1  Compound 2382   \n",
       "26                                            C=C(Cl)Cl    Compound 27   \n",
       "2330  OC[C@H]([C@H]([C@@H]([C@H]1O)O)O[C@H]([C@@H]([...  Compound 2331   \n",
       "\n",
       "                                                  ROMol  \n",
       "1595  <rdkit.Chem.rdchem.Mol object at 0x0000018BDF8...  \n",
       "992   <rdkit.Chem.rdchem.Mol object at 0x0000018BDE8...  \n",
       "2332  <rdkit.Chem.rdchem.Mol object at 0x0000018BE18...  \n",
       "2098  <rdkit.Chem.rdchem.Mol object at 0x0000018BDF8...  \n",
       "2371  <rdkit.Chem.rdchem.Mol object at 0x0000018BE18...  \n",
       "...                                                 ...  \n",
       "425   <rdkit.Chem.rdchem.Mol object at 0x0000018BDE7...  \n",
       "1469  <rdkit.Chem.rdchem.Mol object at 0x0000018BDF8...  \n",
       "2381  <rdkit.Chem.rdchem.Mol object at 0x0000018BE18...  \n",
       "26    <rdkit.Chem.rdchem.Mol object at 0x0000018BDD6...  \n",
       "2330  <rdkit.Chem.rdchem.Mol object at 0x0000018BE18...  \n",
       "\n",
       "[1282 rows x 6 columns]"
      ]
     },
     "execution_count": 21,
     "metadata": {},
     "output_type": "execute_result"
    }
   ],
   "source": [
    "dataset2 = dataset_new.sort_values(['Total_Molweight'],\n",
    "              ascending = [True])\n",
    "\n",
    "dataset2"
   ]
  },
  {
   "cell_type": "code",
   "execution_count": 22,
   "id": "9b9a012a",
   "metadata": {},
   "outputs": [
    {
     "data": {
      "text/plain": [
       "<seaborn.axisgrid.FacetGrid at 0x18be4703ca0>"
      ]
     },
     "execution_count": 22,
     "metadata": {},
     "output_type": "execute_result"
    },
    {
     "data": {
      "image/png": "[encoded data removed]",
      "text/plain": [
       "<Figure size 500x500 with 1 Axes>"
      ]
     },
     "metadata": {},
     "output_type": "display_data"
    }
   ],
   "source": [
    "sb.displot(dataset2.Total_Molweight)"
   ]
  },
  {
   "cell_type": "code",
   "execution_count": 44,
   "id": "8fccbda2",
   "metadata": {},
   "outputs": [
    {
     "data": {
      "text/plain": [
       "count        1282\n",
       "unique       1162\n",
       "top       382.586\n",
       "freq            4\n",
       "Name: Total_Molweight, dtype: object"
      ]
     },
     "execution_count": 44,
     "metadata": {},
     "output_type": "execute_result"
    }
   ],
   "source": [
    "dataset2.Total_Molweight.describe()"
   ]
  },
  {
   "cell_type": "code",
   "execution_count": 36,
   "id": "1b05f8fb",
   "metadata": {
    "scrolled": true
   },
   "outputs": [
    {
     "data": {
      "text/plain": [
       "<Axes: >"
      ]
     },
     "execution_count": 36,
     "metadata": {},
     "output_type": "execute_result"
    },
    {
     "data": {
      "image/png": "[encoded data removed]",
      "text/plain": [
       "<Figure size 640x480 with 1 Axes>"
      ]
     },
     "metadata": {},
     "output_type": "display_data"
    }
   ],
   "source": [
    "sb.boxplot(dataset2.Total_Molweight)"
   ]
  },
  {
   "cell_type": "code",
   "execution_count": 58,
   "id": "4e551eb6",
   "metadata": {},
   "outputs": [],
   "source": [
    "# median = py.median(dataset_new.Total_Molweight)\n",
    "\n",
    "# print(median)"
   ]
  }
 ],
 "metadata": {
  "kernelspec": {
   "display_name": "Python 3 (ipykernel)",
   "language": "python",
   "name": "python3"
  },
  "language_info": {
   "codemirror_mode": {
    "name": "ipython",
    "version": 3
   },
   "file_extension": ".py",
   "mimetype": "text/x-python",
   "name": "python",
   "nbconvert_exporter": "python",
   "pygments_lexer": "ipython3",
   "version": "3.10.9"
  }
 },
 "nbformat": 4,
 "nbformat_minor": 5
}
