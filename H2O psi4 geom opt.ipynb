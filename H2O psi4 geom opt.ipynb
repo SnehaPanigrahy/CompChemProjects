{
 "cells": [
  {
   "cell_type": "code",
   "execution_count": 1,
   "id": "28936e9e",
   "metadata": {},
   "outputs": [
    {
     "name": "stdout",
     "output_type": "stream",
     "text": [
      "Optimizer: Optimization complete!\n",
      "Optimized Energy: -76.0270534846531 Hartree\n"
     ]
    }
   ],
   "source": [
    "import psi4\n",
    "\n",
    "molecule = psi4.geometry(\"\"\"\n",
    "0 1\n",
    "H\n",
    "O 1 1.0\n",
    "H 2 1.0 1 104.5\n",
    "symmetry c1\n",
    "\"\"\")\n",
    "\n",
    "psi4.set_options({\n",
    "    'basis': 'cc-pVDZ',\n",
    "    'scf_type': 'pk',\n",
    "    'e_convergence': 1e-8\n",
    "})\n",
    "\n",
    "# Perform geometry optimization\n",
    "energy = psi4.optimize('scf', molecule=molecule)\n",
    "\n",
    "print(f\"Optimized Energy: {energy} Hartree\")\n"
   ]
  }
 ],
 "metadata": {
  "kernelspec": {
   "display_name": "Python 3 (ipykernel)",
   "language": "python",
   "name": "python3"
  },
  "language_info": {
   "codemirror_mode": {
    "name": "ipython",
    "version": 3
   },
   "file_extension": ".py",
   "mimetype": "text/x-python",
   "name": "python",
   "nbconvert_exporter": "python",
   "pygments_lexer": "ipython3",
   "version": "3.8.16"
  }
 },
 "nbformat": 4,
 "nbformat_minor": 5
}
