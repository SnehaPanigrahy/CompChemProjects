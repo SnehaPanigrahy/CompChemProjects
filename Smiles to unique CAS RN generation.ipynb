{
 "cells": [
  {
   "cell_type": "code",
   "execution_count": null,
   "id": "898f2dba",
   "metadata": {},
   "outputs": [],
   "source": [
    "import cirpy\n",
    "import csv\n",
    "\n",
    "# Define a function to convert InChIKeys to CAS RN\n",
    "def smiles_to_cas(smiles):\n",
    "    try:\n",
    "        cas_rn = cirpy.resolve(smiles, 'CAS')\n",
    "        if cas_rn and len(cas_rn) > 0:\n",
    "            return cas_rn[0]  # Select the first CAS number\n",
    "        else:\n",
    "            return \"Not Found\"\n",
    "    except Exception as e:\n",
    "        return str(e)\n",
    "\n",
    "# Input text file and output CSV file\n",
    "input_file = 'C:\\\\Users\\\\sneha\\\\Desktop\\\\sff.txt'\n",
    "output_file = 'C:\\\\Users\\\\sneha\\\\Desktop\\\\sff123.csv'\n",
    "\n",
    "# Read SMILES from the input text file and write the results to the output CSV file\n",
    "with open(input_file, 'r') as txt_input, open(output_file, 'w', newline='') as csv_output:\n",
    "    csv_writer = csv.writer(csv_output)\n",
    "    csv_writer.writerow(['smiles', 'CAS_RN'])  # Write CSV header\n",
    "\n",
    "    for line in txt_input:\n",
    "        smiles = line.strip()  # Assuming each line in the text file is a SMILES string\n",
    "        cas_rn = smiles_to_cas(smiles)\n",
    "        csv_writer.writerow([smiles, cas_rn])\n",
    "\n",
    "print(\"Conversion completed. Output written to\", output_file)"
   ]
  }
 ],
 "metadata": {
  "kernelspec": {
   "display_name": "Python 3 (ipykernel)",
   "language": "python",
   "name": "python3"
  },
  "language_info": {
   "codemirror_mode": {
    "name": "ipython",
    "version": 3
   },
   "file_extension": ".py",
   "mimetype": "text/x-python",
   "name": "python",
   "nbconvert_exporter": "python",
   "pygments_lexer": "ipython3",
   "version": "3.10.9"
  }
 },
 "nbformat": 4,
 "nbformat_minor": 5
}
